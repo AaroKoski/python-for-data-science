{
 "cells": [
  {
   "cell_type": "markdown",
   "metadata": {},
   "source": [
    "# Python for Data Science Project Session 3: Economics and Finance"
   ]
  },
  {
   "cell_type": "markdown",
   "metadata": {},
   "source": [
    "## Modern Portfolio Theory (MPT)"
   ]
  },
  {
   "cell_type": "markdown",
   "metadata": {},
   "source": [
    "In the first part of the notebook we will optimise a portfolio consisting of two assets: Amazon (AMZN) and Alibaba (BABA) stock. We will implement the ideas of the Modern Portfolio Theory. Although to complete this notebook you don't need any knowledge about finance, if you want to learn more about MPT, you can do it [here](https://corporatefinanceinstitute.com/resources/knowledge/trading-investing/modern-portfolio-theory-mpt/)."
   ]
  },
  {
   "cell_type": "markdown",
   "metadata": {},
   "source": [
    "We start by importing packages required that we going to use in this notebook: numpy, pandas, pandas_datareader and matplotlib."
   ]
  },
  {
   "cell_type": "code",
   "execution_count": 1,
   "metadata": {},
   "outputs": [],
   "source": [
    "#import ...\n",
    "import numpy as np\n",
    "import pandas as pd\n",
    "from pandas_datareader import data as wb\n",
    "import matplotlib.pyplot as plt"
   ]
  },
  {
   "cell_type": "markdown",
   "metadata": {},
   "source": [
    "Before we start working on data, first we must get them. In the first section of the notebook, we will be working on the daily prices of the Amazon and Alibaba stocks. First, we need to create dataframe `stock` and then using [DataReader](https://pandas-datareader.readthedocs.io/en/latest/remote_data.html#remote-data-yahoo) we can get the data from Yahoo Finance. The starting date of our data doesn't matter, but for sake of simplicity, let's start from 1st January 2016."
   ]
  },
  {
   "cell_type": "code",
   "execution_count": 2,
   "metadata": {},
   "outputs": [],
   "source": [
    "#stock=...\n",
    "stock = pd.DataFrame()"
   ]
  },
  {
   "cell_type": "code",
   "execution_count": 3,
   "metadata": {},
   "outputs": [],
   "source": [
    "#stock['AMZN']=...\n",
    "stock['AMZN'] = wb.DataReader('AMZN', data_source = 'yahoo', start = '2016-1-1')['Adj Close']"
   ]
  },
  {
   "cell_type": "code",
   "execution_count": 4,
   "metadata": {},
   "outputs": [],
   "source": [
    "#stock['BABA']=...\n",
    "stock['BABA'] = wb.DataReader('BABA', data_source = 'yahoo', start = '2016-1-1')['Adj Close']"
   ]
  },
  {
   "cell_type": "markdown",
   "metadata": {},
   "source": [
    "Now, let's display our data to see if we correctly downloaded the data."
   ]
  },
  {
   "cell_type": "code",
   "execution_count": 5,
   "metadata": {},
   "outputs": [
    {
     "data": {
      "text/html": [
       "<div>\n",
       "<style scoped>\n",
       "    .dataframe tbody tr th:only-of-type {\n",
       "        vertical-align: middle;\n",
       "    }\n",
       "\n",
       "    .dataframe tbody tr th {\n",
       "        vertical-align: top;\n",
       "    }\n",
       "\n",
       "    .dataframe thead th {\n",
       "        text-align: right;\n",
       "    }\n",
       "</style>\n",
       "<table border=\"1\" class=\"dataframe\">\n",
       "  <thead>\n",
       "    <tr style=\"text-align: right;\">\n",
       "      <th></th>\n",
       "      <th>AMZN</th>\n",
       "      <th>BABA</th>\n",
       "    </tr>\n",
       "    <tr>\n",
       "      <th>Date</th>\n",
       "      <th></th>\n",
       "      <th></th>\n",
       "    </tr>\n",
       "  </thead>\n",
       "  <tbody>\n",
       "    <tr>\n",
       "      <th>2016-01-04</th>\n",
       "      <td>636.989990</td>\n",
       "      <td>76.690002</td>\n",
       "    </tr>\n",
       "    <tr>\n",
       "      <th>2016-01-05</th>\n",
       "      <td>633.789978</td>\n",
       "      <td>78.629997</td>\n",
       "    </tr>\n",
       "    <tr>\n",
       "      <th>2016-01-06</th>\n",
       "      <td>632.650024</td>\n",
       "      <td>77.330002</td>\n",
       "    </tr>\n",
       "    <tr>\n",
       "      <th>2016-01-07</th>\n",
       "      <td>607.940002</td>\n",
       "      <td>72.720001</td>\n",
       "    </tr>\n",
       "    <tr>\n",
       "      <th>2016-01-08</th>\n",
       "      <td>607.049988</td>\n",
       "      <td>70.800003</td>\n",
       "    </tr>\n",
       "    <tr>\n",
       "      <th>...</th>\n",
       "      <td>...</td>\n",
       "      <td>...</td>\n",
       "    </tr>\n",
       "    <tr>\n",
       "      <th>2022-02-14</th>\n",
       "      <td>3103.340088</td>\n",
       "      <td>121.919998</td>\n",
       "    </tr>\n",
       "    <tr>\n",
       "      <th>2022-02-15</th>\n",
       "      <td>3130.209961</td>\n",
       "      <td>126.239998</td>\n",
       "    </tr>\n",
       "    <tr>\n",
       "      <th>2022-02-16</th>\n",
       "      <td>3162.010010</td>\n",
       "      <td>125.559998</td>\n",
       "    </tr>\n",
       "    <tr>\n",
       "      <th>2022-02-17</th>\n",
       "      <td>3093.050049</td>\n",
       "      <td>124.430000</td>\n",
       "    </tr>\n",
       "    <tr>\n",
       "      <th>2022-02-18</th>\n",
       "      <td>3052.030029</td>\n",
       "      <td>118.989998</td>\n",
       "    </tr>\n",
       "  </tbody>\n",
       "</table>\n",
       "<p>1545 rows × 2 columns</p>\n",
       "</div>"
      ],
      "text/plain": [
       "                   AMZN        BABA\n",
       "Date                               \n",
       "2016-01-04   636.989990   76.690002\n",
       "2016-01-05   633.789978   78.629997\n",
       "2016-01-06   632.650024   77.330002\n",
       "2016-01-07   607.940002   72.720001\n",
       "2016-01-08   607.049988   70.800003\n",
       "...                 ...         ...\n",
       "2022-02-14  3103.340088  121.919998\n",
       "2022-02-15  3130.209961  126.239998\n",
       "2022-02-16  3162.010010  125.559998\n",
       "2022-02-17  3093.050049  124.430000\n",
       "2022-02-18  3052.030029  118.989998\n",
       "\n",
       "[1545 rows x 2 columns]"
      ]
     },
     "execution_count": 5,
     "metadata": {},
     "output_type": "execute_result"
    }
   ],
   "source": [
    "stock"
   ]
  },
  {
   "cell_type": "markdown",
   "metadata": {},
   "source": [
    "Once we get our data, we can create a table with daily logarithmic returns. To do this, we can use [`.log()`](https://numpy.org/doc/stable/reference/generated/numpy.log.html) and [`.shift()`](https://pandas.pydata.org/docs/reference/api/pandas.DataFrame.shift.html)."
   ]
  },
  {
   "cell_type": "code",
   "execution_count": 7,
   "metadata": {},
   "outputs": [],
   "source": [
    "#log_returns=...\n",
    "log_returns = np.log(1 + stock.pct_change())"
   ]
  },
  {
   "cell_type": "markdown",
   "metadata": {},
   "source": [
    "Now let's display our returns!"
   ]
  },
  {
   "cell_type": "code",
   "execution_count": 8,
   "metadata": {},
   "outputs": [
    {
     "data": {
      "text/html": [
       "<div>\n",
       "<style scoped>\n",
       "    .dataframe tbody tr th:only-of-type {\n",
       "        vertical-align: middle;\n",
       "    }\n",
       "\n",
       "    .dataframe tbody tr th {\n",
       "        vertical-align: top;\n",
       "    }\n",
       "\n",
       "    .dataframe thead th {\n",
       "        text-align: right;\n",
       "    }\n",
       "</style>\n",
       "<table border=\"1\" class=\"dataframe\">\n",
       "  <thead>\n",
       "    <tr style=\"text-align: right;\">\n",
       "      <th></th>\n",
       "      <th>AMZN</th>\n",
       "      <th>BABA</th>\n",
       "    </tr>\n",
       "    <tr>\n",
       "      <th>Date</th>\n",
       "      <th></th>\n",
       "      <th></th>\n",
       "    </tr>\n",
       "  </thead>\n",
       "  <tbody>\n",
       "    <tr>\n",
       "      <th>2016-01-04</th>\n",
       "      <td>NaN</td>\n",
       "      <td>NaN</td>\n",
       "    </tr>\n",
       "    <tr>\n",
       "      <th>2016-01-05</th>\n",
       "      <td>-0.005036</td>\n",
       "      <td>0.024982</td>\n",
       "    </tr>\n",
       "    <tr>\n",
       "      <th>2016-01-06</th>\n",
       "      <td>-0.001800</td>\n",
       "      <td>-0.016671</td>\n",
       "    </tr>\n",
       "    <tr>\n",
       "      <th>2016-01-07</th>\n",
       "      <td>-0.039841</td>\n",
       "      <td>-0.061466</td>\n",
       "    </tr>\n",
       "    <tr>\n",
       "      <th>2016-01-08</th>\n",
       "      <td>-0.001465</td>\n",
       "      <td>-0.026757</td>\n",
       "    </tr>\n",
       "    <tr>\n",
       "      <th>...</th>\n",
       "      <td>...</td>\n",
       "      <td>...</td>\n",
       "    </tr>\n",
       "    <tr>\n",
       "      <th>2022-02-14</th>\n",
       "      <td>0.012148</td>\n",
       "      <td>-0.002703</td>\n",
       "    </tr>\n",
       "    <tr>\n",
       "      <th>2022-02-15</th>\n",
       "      <td>0.008621</td>\n",
       "      <td>0.034820</td>\n",
       "    </tr>\n",
       "    <tr>\n",
       "      <th>2022-02-16</th>\n",
       "      <td>0.010108</td>\n",
       "      <td>-0.005401</td>\n",
       "    </tr>\n",
       "    <tr>\n",
       "      <th>2022-02-17</th>\n",
       "      <td>-0.022050</td>\n",
       "      <td>-0.009040</td>\n",
       "    </tr>\n",
       "    <tr>\n",
       "      <th>2022-02-18</th>\n",
       "      <td>-0.013351</td>\n",
       "      <td>-0.044704</td>\n",
       "    </tr>\n",
       "  </tbody>\n",
       "</table>\n",
       "<p>1545 rows × 2 columns</p>\n",
       "</div>"
      ],
      "text/plain": [
       "                AMZN      BABA\n",
       "Date                          \n",
       "2016-01-04       NaN       NaN\n",
       "2016-01-05 -0.005036  0.024982\n",
       "2016-01-06 -0.001800 -0.016671\n",
       "2016-01-07 -0.039841 -0.061466\n",
       "2016-01-08 -0.001465 -0.026757\n",
       "...              ...       ...\n",
       "2022-02-14  0.012148 -0.002703\n",
       "2022-02-15  0.008621  0.034820\n",
       "2022-02-16  0.010108 -0.005401\n",
       "2022-02-17 -0.022050 -0.009040\n",
       "2022-02-18 -0.013351 -0.044704\n",
       "\n",
       "[1545 rows x 2 columns]"
      ]
     },
     "execution_count": 8,
     "metadata": {},
     "output_type": "execute_result"
    }
   ],
   "source": [
    "log_returns"
   ]
  },
  {
   "cell_type": "markdown",
   "metadata": {},
   "source": [
    "As we can see, our values are really small. It shouldn't concern us, since the returns are daily. What should concern us is the first row. Since there are no values before it, we have got NaN. To prevent any errors in the future, we can delete those values using [`.dropna()`](https://pandas.pydata.org/pandas-docs/stable/reference/api/pandas.DataFrame.dropna.html)."
   ]
  },
  {
   "cell_type": "code",
   "execution_count": 9,
   "metadata": {},
   "outputs": [
    {
     "data": {
      "text/html": [
       "<div>\n",
       "<style scoped>\n",
       "    .dataframe tbody tr th:only-of-type {\n",
       "        vertical-align: middle;\n",
       "    }\n",
       "\n",
       "    .dataframe tbody tr th {\n",
       "        vertical-align: top;\n",
       "    }\n",
       "\n",
       "    .dataframe thead th {\n",
       "        text-align: right;\n",
       "    }\n",
       "</style>\n",
       "<table border=\"1\" class=\"dataframe\">\n",
       "  <thead>\n",
       "    <tr style=\"text-align: right;\">\n",
       "      <th></th>\n",
       "      <th>AMZN</th>\n",
       "      <th>BABA</th>\n",
       "    </tr>\n",
       "    <tr>\n",
       "      <th>Date</th>\n",
       "      <th></th>\n",
       "      <th></th>\n",
       "    </tr>\n",
       "  </thead>\n",
       "  <tbody>\n",
       "    <tr>\n",
       "      <th>2016-01-05</th>\n",
       "      <td>-0.005036</td>\n",
       "      <td>0.024982</td>\n",
       "    </tr>\n",
       "    <tr>\n",
       "      <th>2016-01-06</th>\n",
       "      <td>-0.001800</td>\n",
       "      <td>-0.016671</td>\n",
       "    </tr>\n",
       "    <tr>\n",
       "      <th>2016-01-07</th>\n",
       "      <td>-0.039841</td>\n",
       "      <td>-0.061466</td>\n",
       "    </tr>\n",
       "    <tr>\n",
       "      <th>2016-01-08</th>\n",
       "      <td>-0.001465</td>\n",
       "      <td>-0.026757</td>\n",
       "    </tr>\n",
       "    <tr>\n",
       "      <th>2016-01-11</th>\n",
       "      <td>0.017457</td>\n",
       "      <td>-0.012507</td>\n",
       "    </tr>\n",
       "    <tr>\n",
       "      <th>...</th>\n",
       "      <td>...</td>\n",
       "      <td>...</td>\n",
       "    </tr>\n",
       "    <tr>\n",
       "      <th>2022-02-14</th>\n",
       "      <td>0.012148</td>\n",
       "      <td>-0.002703</td>\n",
       "    </tr>\n",
       "    <tr>\n",
       "      <th>2022-02-15</th>\n",
       "      <td>0.008621</td>\n",
       "      <td>0.034820</td>\n",
       "    </tr>\n",
       "    <tr>\n",
       "      <th>2022-02-16</th>\n",
       "      <td>0.010108</td>\n",
       "      <td>-0.005401</td>\n",
       "    </tr>\n",
       "    <tr>\n",
       "      <th>2022-02-17</th>\n",
       "      <td>-0.022050</td>\n",
       "      <td>-0.009040</td>\n",
       "    </tr>\n",
       "    <tr>\n",
       "      <th>2022-02-18</th>\n",
       "      <td>-0.013351</td>\n",
       "      <td>-0.044704</td>\n",
       "    </tr>\n",
       "  </tbody>\n",
       "</table>\n",
       "<p>1544 rows × 2 columns</p>\n",
       "</div>"
      ],
      "text/plain": [
       "                AMZN      BABA\n",
       "Date                          \n",
       "2016-01-05 -0.005036  0.024982\n",
       "2016-01-06 -0.001800 -0.016671\n",
       "2016-01-07 -0.039841 -0.061466\n",
       "2016-01-08 -0.001465 -0.026757\n",
       "2016-01-11  0.017457 -0.012507\n",
       "...              ...       ...\n",
       "2022-02-14  0.012148 -0.002703\n",
       "2022-02-15  0.008621  0.034820\n",
       "2022-02-16  0.010108 -0.005401\n",
       "2022-02-17 -0.022050 -0.009040\n",
       "2022-02-18 -0.013351 -0.044704\n",
       "\n",
       "[1544 rows x 2 columns]"
      ]
     },
     "execution_count": 9,
     "metadata": {},
     "output_type": "execute_result"
    }
   ],
   "source": [
    "log_returns.dropna()"
   ]
  },
  {
   "cell_type": "markdown",
   "metadata": {},
   "source": [
    "### Efficient Frontier"
   ]
  },
  {
   "cell_type": "markdown",
   "metadata": {},
   "source": [
    "Now it's time to explain the basic assumptions of the Markowitz model. As we already know, we have two stocks with different returns. If our portfolio would consist only of the Amazon stock, our returns will be equal to Amazon stock returns, and the portfolio's variance would be equal to the Amazon stock variance. On the other hand, if our portfolio would consist only of Alibaba stock, our returns will be equal to Alibaba stock returns, and the portfolio's variance would be equal to the amazon stock variance. However, if our portfolio consist of mix of those two stocks, our returns and variability would be:"
   ]
  },
  {
   "cell_type": "markdown",
   "metadata": {},
   "source": [
    "$$ returns = w_1 r_1+w_2 r_2\\\\ variance=w_1^2 v_1+w_2^2 v_2+2 w_1 w_2 cov() $$\n",
    "$ w_1 - weight\\,of\\,1st\\,stock\\\\ $ \n",
    "$ w_2 - weight\\,of\\,2nd\\,stock\\\\ $ \n",
    "$ r_1 - returns\\,of\\,1st\\,stock\\\\ $ \n",
    "$ r_2 - returns\\,of\\,2nd\\,stock\\\\ $ \n",
    "$ v_1 - variance\\,of\\,1st\\,stock\\\\ $ \n",
    "$ v_2 - variance\\,of\\,2nd\\,stock\\\\ $ \n",
    "$ cov() - covariance\\,of\\,two\\,stocks\\\\ $ \n"
   ]
  },
  {
   "cell_type": "markdown",
   "metadata": {},
   "source": [
    "Now, what we can observe is that while mixing the weights of two stocks, we can achieve two different combinations of stock 1 and stock 2 with the same variance, but with different returns. This could be nicely represented on a graph."
   ]
  },
  {
   "cell_type": "markdown",
   "metadata": {},
   "source": [
    "To create a curve that will represent all the possible combinations of two stocks, we will use random numbers. The idea is as follows. Once we create a sufficiently large number of random portfolios consisting of two stocks, it would create a sufficiently good representation of all possible combinations."
   ]
  },
  {
   "cell_type": "markdown",
   "metadata": {},
   "source": [
    "First, we need to create two empty arrays called returns and volatilities which we will expand by our randomly generated portfolios."
   ]
  },
  {
   "cell_type": "code",
   "execution_count": 10,
   "metadata": {},
   "outputs": [],
   "source": [
    "returns = []\n",
    "volatilities = []"
   ]
  },
  {
   "cell_type": "markdown",
   "metadata": {},
   "source": [
    "Then, we need to create a loop that will execute a sufficiently large number of times (100 is enough). Within this loop, we need to generate one random number `ran` in range (0,1) which would be the weight of the first stock (you can use [`random.random()`](https://docs.python.org/3/library/random.html)). We don't need to generate the weight of the second stock, since it is just 1 - `ran` (because those two weights need to sum up to 1). Then we can append the arrays that we created before with the returns and volatility given randomly generated weight. The returns of the stocks we can get by taking the mean of the logarithmic returns calculated before (we need to multiply the mean daily returns by 250 to achieve annual returns because there are about 250 trading days in a year). We can get variances and covariance by using the [`.cov()`](https://numpy.org/doc/stable/reference/generated/numpy.cov.html) (note that this command returns covariance matrix, you need to use `.iloc[]` to get the values that you want, and you also need to multiply them by 250)."
   ]
  },
  {
   "cell_type": "code",
   "execution_count": 12,
   "metadata": {},
   "outputs": [],
   "source": [
    "for i in range (100):\n",
    "    ran=np.random.random(1)[0]\n",
    "    returns.append(ran*log_returns.mean()[0]*250+(1-ran)*log_returns.mean()[1]*250)\n",
    "    volatilities.append((ran**2)*log_returns.cov().iloc[0,0]*250+((1-ran)**2)*log_returns.cov().iloc[1,1]*250+ran*(1-ran)*log_returns.cov().iloc[0,1]*250)"
   ]
  },
  {
   "cell_type": "markdown",
   "metadata": {},
   "source": [
    "Let's display the values that we have calculated."
   ]
  },
  {
   "cell_type": "code",
   "execution_count": 13,
   "metadata": {},
   "outputs": [
    {
     "data": {
      "text/plain": [
       "([0.24030514425545868,\n",
       "  0.142535658021745,\n",
       "  0.17539782656030314,\n",
       "  0.2192661237315601,\n",
       "  0.07752623112546699,\n",
       "  0.0883459774512985,\n",
       "  0.23160231103395515,\n",
       "  0.16037655114247834,\n",
       "  0.09445574391636852,\n",
       "  0.217761378544935,\n",
       "  0.1828573153858506,\n",
       "  0.18094893539526188,\n",
       "  0.1691875977993543,\n",
       "  0.07722726845142762,\n",
       "  0.09096397111471827,\n",
       "  0.22185452798707006,\n",
       "  0.21364023582476885,\n",
       "  0.17592640137462748,\n",
       "  0.08573485702589204,\n",
       "  0.11629358851037341,\n",
       "  0.18131745408159256,\n",
       "  0.19728277119543025,\n",
       "  0.1826764481592228,\n",
       "  0.09215637430832203,\n",
       "  0.14801903472788408,\n",
       "  0.13925822521584094,\n",
       "  0.09712375614517751,\n",
       "  0.19694661042301798,\n",
       "  0.20752708434335218,\n",
       "  0.10400243850948207,\n",
       "  0.10186564714325112,\n",
       "  0.10135532446835199,\n",
       "  0.2380474698256026,\n",
       "  0.20533840256783326,\n",
       "  0.13845391173947785,\n",
       "  0.082737796955702,\n",
       "  0.15345111817842,\n",
       "  0.09191910875691978,\n",
       "  0.22226922458987453,\n",
       "  0.2504403111216253,\n",
       "  0.21743603904322092,\n",
       "  0.07779346267089221,\n",
       "  0.10911935386292226,\n",
       "  0.22453182654173645,\n",
       "  0.10168399286693189,\n",
       "  0.19427511105072248,\n",
       "  0.23766612182000876,\n",
       "  0.1266512744895054,\n",
       "  0.15856456595332083,\n",
       "  0.22300103484819192,\n",
       "  0.10328890197565818,\n",
       "  0.22868968222683056,\n",
       "  0.12449699015338342,\n",
       "  0.21566699838740838,\n",
       "  0.11129921544224972,\n",
       "  0.14300415519746482,\n",
       "  0.10645058695877467,\n",
       "  0.12322036872382967,\n",
       "  0.0997202524252751,\n",
       "  0.11582563042516805,\n",
       "  0.12694129248234717,\n",
       "  0.09961169335128414,\n",
       "  0.11958671672490395,\n",
       "  0.09770889435777957,\n",
       "  0.17997900242088,\n",
       "  0.1370102887504168,\n",
       "  0.1632213002153632,\n",
       "  0.15243517223207345,\n",
       "  0.09366611122420748,\n",
       "  0.15274884448978973,\n",
       "  0.10352004996020944,\n",
       "  0.23319298841734587,\n",
       "  0.20367148102713056,\n",
       "  0.09027650049547183,\n",
       "  0.16222965275564794,\n",
       "  0.14724280086384728,\n",
       "  0.2509702303816264,\n",
       "  0.25225703745447503,\n",
       "  0.07285966504261852,\n",
       "  0.20036699887774026,\n",
       "  0.12846911470322742,\n",
       "  0.11108409769816198,\n",
       "  0.19403612901068457,\n",
       "  0.21435925622503368,\n",
       "  0.10330498803755517,\n",
       "  0.13202694803754997,\n",
       "  0.21432728952050037,\n",
       "  0.16165385680078348,\n",
       "  0.16552509066735954,\n",
       "  0.11503897752131538,\n",
       "  0.21661645551492828,\n",
       "  0.17567746123220299,\n",
       "  0.11416886643088221,\n",
       "  0.12941735137069646,\n",
       "  0.17321295348258828,\n",
       "  0.24997591223668825,\n",
       "  0.12149262134468905,\n",
       "  0.24556533508723224,\n",
       "  0.2490102466637337,\n",
       "  0.1582691814183449],\n",
       " [0.08064352542167144,\n",
       "  0.07246408006753069,\n",
       "  0.06429877058822532,\n",
       "  0.07062281450367949,\n",
       "  0.12117448322367516,\n",
       "  0.11006723749459983,\n",
       "  0.07594907621149605,\n",
       "  0.06665980322519421,\n",
       "  0.10432440461989234,\n",
       "  0.07007969953527812,\n",
       "  0.0639843922305954,\n",
       "  0.0640106126728988,\n",
       "  0.06499489346677705,\n",
       "  0.12149839922651196,\n",
       "  0.10755969548610325,\n",
       "  0.07161127319147303,\n",
       "  0.06871087404499833,\n",
       "  0.06425774770022746,\n",
       "  0.11263806322478283,\n",
       "  0.08692106909368777,\n",
       "  0.06400264561870872,\n",
       "  0.06499187906741608,\n",
       "  0.06398527846545879,\n",
       "  0.10644084842365654,\n",
       "  0.0703334088209601,\n",
       "  0.07388451424127425,\n",
       "  0.10193646149563151,\n",
       "  0.06494416572490154,\n",
       "  0.06700054873272158,\n",
       "  0.09611588251617396,\n",
       "  0.09787213719734224,\n",
       "  0.09829849006866775,\n",
       "  0.07935124117267617,\n",
       "  0.06648118030178471,\n",
       "  0.07424990161364614,\n",
       "  0.11567487991370977,\n",
       "  0.0685260754471129,\n",
       "  0.1066623180791699,\n",
       "  0.07177600995948114,\n",
       "  0.08708757182362048,\n",
       "  0.06996531983986135,\n",
       "  0.12088572106175131,\n",
       "  0.09210015420242826,\n",
       "  0.07270581779423922,\n",
       "  0.09802359610594086,\n",
       "  0.06460609862230093,\n",
       "  0.07913810872120808,\n",
       "  0.08037304819236171,\n",
       "  0.06710068701745694,\n",
       "  0.07207101232131384,\n",
       "  0.09669715026903443,\n",
       "  0.07455107360509125,\n",
       "  0.08164453395259705,\n",
       "  0.06936233652034036,\n",
       "  0.09047080138161863,\n",
       "  0.07227001428559908,\n",
       "  0.09416115623137447,\n",
       "  0.08242042438149988,\n",
       "  0.09968247301834333,\n",
       "  0.08724282985431424,\n",
       "  0.08020550333012513,\n",
       "  0.0997753298525143,\n",
       "  0.08472014298756841,\n",
       "  0.10142248742755282,\n",
       "  0.06403822473810221,\n",
       "  0.07492232317681317,\n",
       "  0.06603541850823735,\n",
       "  0.06884113768398746,\n",
       "  0.10504511808041062,\n",
       "  0.06874273534889318,\n",
       "  0.09650827978918454,\n",
       "  0.07674922378702413,\n",
       "  0.0661185112185419,\n",
       "  0.10821137091987773,\n",
       "  0.06624366882931543,\n",
       "  0.0706163326003239,\n",
       "  0.08745341961667456,\n",
       "  0.08835377311032072,\n",
       "  0.12633484421292912,\n",
       "  0.06548362299549979,\n",
       "  0.07933708438319328,\n",
       "  0.09062942993345811,\n",
       "  0.06457941559821019,\n",
       "  0.06893717733992341,\n",
       "  0.09668398868300022,\n",
       "  0.0774073876380285,\n",
       "  0.06892700380779514,\n",
       "  0.06636920675833144,\n",
       "  0.06559046079092642,\n",
       "  0.0877887704632665,\n",
       "  0.06968198024565585,\n",
       "  0.06427671182991862,\n",
       "  0.08840000795778087,\n",
       "  0.07881011787943432,\n",
       "  0.06449867584396715,\n",
       "  0.0867693210865427,\n",
       "  0.08349705636939021,\n",
       "  0.0838567931912228,\n",
       "  0.08611462066933341,\n",
       "  0.06717574387014076])"
      ]
     },
     "execution_count": 13,
     "metadata": {},
     "output_type": "execute_result"
    }
   ],
   "source": [
    "returns, volatilities"
   ]
  },
  {
   "cell_type": "markdown",
   "metadata": {},
   "source": [
    "Now, we can plot our results. Create a scatter plot with volatility on the x-axis and returns on the y-axis."
   ]
  },
  {
   "cell_type": "code",
   "execution_count": 16,
   "metadata": {},
   "outputs": [
    {
     "data": {
      "image/png": "[encoded data removed]",
      "text/plain": [
       "<Figure size 720x360 with 1 Axes>"
      ]
     },
     "metadata": {
      "needs_background": "light"
     },
     "output_type": "display_data"
    }
   ],
   "source": [
    "plt.figure(figsize=(10,5))\n",
    "plt.scatter(volatilities,returns)\n",
    "plt.xlabel(\"Volatility\")\n",
    "plt.ylabel(\"Returns\")\n",
    "plt.show()"
   ]
  },
  {
   "cell_type": "markdown",
   "metadata": {},
   "source": [
    "As we can see, our axes are not starting at 0. We can fix that by using [`.gca()`](https://matplotlib.org/3.1.1/api/_as_gen/matplotlib.pyplot.gca.html), [`set_xlim()`](https://matplotlib.org/stable/api/_as_gen/matplotlib.pyplot.xlim.html) and [`set_ylim()`](https://matplotlib.org/stable/api/_as_gen/matplotlib.pyplot.ylim.html) ."
   ]
  },
  {
   "cell_type": "code",
   "execution_count": 17,
   "metadata": {},
   "outputs": [
    {
     "data": {
      "image/png": "[encoded data removed]",
      "text/plain": [
       "<Figure size 720x360 with 1 Axes>"
      ]
     },
     "metadata": {
      "needs_background": "light"
     },
     "output_type": "display_data"
    }
   ],
   "source": [
    "plt.figure(figsize=(10,5))\n",
    "plt.scatter(volatilities,returns)\n",
    "ax = plt.gca()\n",
    "ax.set_xlim([0, 0.20])\n",
    "ax.set_ylim([0, 0.35])\n",
    "plt.xlabel(\"Volatility\")\n",
    "plt.ylabel(\"Returns\")\n",
    "plt.show()"
   ]
  },
  {
   "cell_type": "markdown",
   "metadata": {},
   "source": [
    "The upper part of this curve is called \"Efficient Frontier\". It represents all the combinations of two assets that maximise the returns on the given level of risk (volatility). This notebook won't cover all the details about the Markowitz portfolio model, so if you want to learn more details about this model you can easily find them just by googling."
   ]
  },
  {
   "cell_type": "markdown",
   "metadata": {},
   "source": [
    "### Capital Allocation Line (CAL)"
   ]
  },
  {
   "cell_type": "markdown",
   "metadata": {},
   "source": [
    "In this part of the notebook, we will calculate the Capital Allocation Line. That's the line that runs from the risk-free rate (the point where the returns are equal to the risk-free rate, and the volatility (risk) is equal to 0) and is tangent to our Efficient Frontier. This line shows all of the possible efficient allocations of the risk-free and risky assets. Once again, we won't go into details of the meaning of this line, we will just focus on computing it."
   ]
  },
  {
   "cell_type": "markdown",
   "metadata": {},
   "source": [
    "Let's begin by setting our risk-free rate, which would be stored in a variable called `interest_rate` (let's say that it is 0.1)."
   ]
  },
  {
   "cell_type": "code",
   "execution_count": 18,
   "metadata": {},
   "outputs": [],
   "source": [
    "#interest_rate = ...\n",
    "interest_rate = 0.1"
   ]
  },
  {
   "cell_type": "markdown",
   "metadata": {},
   "source": [
    "Since in our example the Efficient Frontier is not a function but a set of points, to calculate the tangent line we will use a simple trick. To begin, let's calculate the equation of the line that goes through risk-free rate point and point (`volatilities[0]`, `returns[0]`). We can do it by creating linespace `x` and then calculating `y` by the following formula:"
   ]
  },
  {
   "cell_type": "markdown",
   "metadata": {},
   "source": [
    "$$ y = risk\\,free\\,rate\\,+\\frac{return_0-risk\\,free\\,rate\\,}{volatility_0}*x $$"
   ]
  },
  {
   "cell_type": "code",
   "execution_count": 20,
   "metadata": {},
   "outputs": [],
   "source": [
    "x = np.linspace(0, 0.2)\n",
    "y = interest_rate + (returns[0] - interest_rate)/volatilities[0] * x"
   ]
  },
  {
   "cell_type": "markdown",
   "metadata": {},
   "source": [
    "We can our line on top of the previous graph to see if it actually goes through our chosen points."
   ]
  },
  {
   "cell_type": "code",
   "execution_count": 23,
   "metadata": {},
   "outputs": [
    {
     "data": {
      "image/png": "[encoded data removed]",
      "text/plain": [
       "<Figure size 720x360 with 1 Axes>"
      ]
     },
     "metadata": {
      "needs_background": "light"
     },
     "output_type": "display_data"
    }
   ],
   "source": [
    "plt.figure(figsize=(10,5))\n",
    "plt.scatter(volatilities,returns)\n",
    "plt.plot(x, y, color='orange')\n",
    "ax = plt.gca()\n",
    "ax.set_xlim([0, 0.20])\n",
    "ax.set_ylim([0, 0.35])\n",
    "plt.show()"
   ]
  },
  {
   "cell_type": "markdown",
   "metadata": {},
   "source": [
    "Once we know how to compute the line that goes through chosen point, we can calculate the tangent line. To do this, we will use the property of the tangent line. In our case, the tangent line goes through one of the points on the line and lies above all the other points on our curve. What we need to do is find such a point, that the line that goes through it is above every other line. Let's create a matrix called `point` that would store the coordinates of our candidates for such point."
   ]
  },
  {
   "cell_type": "code",
   "execution_count": 26,
   "metadata": {},
   "outputs": [],
   "source": [
    "point = [volatilities[0],returns[0]]"
   ]
  },
  {
   "cell_type": "markdown",
   "metadata": {},
   "source": [
    "Now, what we need to do is to check if there is any other point that lies above it. If it does, it would become our new candidate for point of tangency. Once we try it for all points on our curve, our candidate will be our final point of tangency."
   ]
  },
  {
   "cell_type": "code",
   "execution_count": 25,
   "metadata": {},
   "outputs": [],
   "source": [
    "for j in range(100):\n",
    "        if(returns[j]>interest_rate + (point[1]-interest_rate)/point[0]*volatilities[j]):\n",
    "            point[0]=volatilities[j]\n",
    "            point[1]=returns[j]"
   ]
  },
  {
   "cell_type": "markdown",
   "metadata": {},
   "source": [
    "Let's change the `y` that it represents the line that goes through risk-free rate and `point`."
   ]
  },
  {
   "cell_type": "code",
   "execution_count": 28,
   "metadata": {},
   "outputs": [],
   "source": [
    "y = interest_rate + (point[1]-interest_rate)/point[0] * x"
   ]
  },
  {
   "cell_type": "markdown",
   "metadata": {},
   "source": [
    "Finally, we can plot everything together and confirm that the line that we have computed actually is tangent to our curve."
   ]
  },
  {
   "cell_type": "code",
   "execution_count": 29,
   "metadata": {},
   "outputs": [
    {
     "data": {
      "image/png": "[encoded data removed]",
      "text/plain": [
       "<Figure size 720x432 with 1 Axes>"
      ]
     },
     "metadata": {
      "needs_background": "light"
     },
     "output_type": "display_data"
    }
   ],
   "source": [
    "plt.figure(figsize=(10,6))\n",
    "plt.scatter(volatilities,returns)\n",
    "plt.plot(x, y, color='orange')\n",
    "ax = plt.gca()\n",
    "ax.set_xlim([0, 0.20])\n",
    "ax.set_ylim([0, 0.35])\n",
    "plt.show()"
   ]
  },
  {
   "cell_type": "markdown",
   "metadata": {},
   "source": [
    "# 3x3 Nash equilibria"
   ]
  },
  {
   "cell_type": "markdown",
   "metadata": {},
   "source": [
    "At the end of this notebook, we create a framework for finding nash equilibria in the 3x3 games."
   ]
  },
  {
   "cell_type": "markdown",
   "metadata": {},
   "source": [
    "Let's say that we have two firms. They are setting their level of cost spend on marketing. They could either spend 2, 3 or 4. If they spend the same amount, they both sell 4, so their profit is 4 minus marketing costs. If one of the firms spend more, it attracts a majority of clients and sells 7, and the other firm sells 1. The game could be represented by the following payoff matrix:"
   ]
  },
  {
   "cell_type": "markdown",
   "metadata": {},
   "source": [
    "<table>\n",
    "    <tr>\n",
    "        <td></td><td></td><td>Firm 2</td><td></td><td></td>\n",
    "    </tr>\n",
    "    <tr>\n",
    "        <td></td><td></td><td>Low</td><td>Medium</td><td>High</td>\n",
    "    </tr>\n",
    "    <tr>\n",
    "        <td></td><td>Low</td><td>2;2</td><td>-1;4</td><td>-1;3</td>\n",
    "    </tr>\n",
    "    <tr>\n",
    "        <td>Firm 1</td><td>Medium</td><td>4;-1</td><td>1;1</td><td>-2;3</td>\n",
    "    </tr>\n",
    "    <tr>\n",
    "        <td></td><td>High</td><td>3;-1</td><td>3;-2</td><td>0;0</td>\n",
    "    </tr>\n",
    "    \n",
    "</table>"
   ]
  },
  {
   "cell_type": "markdown",
   "metadata": {},
   "source": [
    "To find the Nash Equilibria, we need to first create the matrix and fill it with payoffs. To create 2x3x3 matrix we can use [`.zeros()`](https://numpy.org/doc/stable/reference/generated/numpy.zeros.html)."
   ]
  },
  {
   "cell_type": "code",
   "execution_count": 30,
   "metadata": {},
   "outputs": [],
   "source": [
    "payoff_matrix = np.zeros((2,3,3))"
   ]
  },
  {
   "cell_type": "markdown",
   "metadata": {},
   "source": [
    "Let's display our payoff matrix."
   ]
  },
  {
   "cell_type": "code",
   "execution_count": 31,
   "metadata": {},
   "outputs": [
    {
     "data": {
      "text/plain": [
       "array([[[0., 0., 0.],\n",
       "        [0., 0., 0.],\n",
       "        [0., 0., 0.]],\n",
       "\n",
       "       [[0., 0., 0.],\n",
       "        [0., 0., 0.],\n",
       "        [0., 0., 0.]]])"
      ]
     },
     "execution_count": 31,
     "metadata": {},
     "output_type": "execute_result"
    }
   ],
   "source": [
    "payoff_matrix"
   ]
  },
  {
   "cell_type": "markdown",
   "metadata": {},
   "source": [
    "For such a simple 3x3 game, we can easily enter the values manually, but to practise for other more complicated cases, we will create a function that returns one player given marketing expenditures. The function should be as follows:"
   ]
  },
  {
   "cell_type": "markdown",
   "metadata": {},
   "source": [
    " - if the players spend the same amount on marketing, return 4 - player's spending\n",
    " - if the player spends more than the opponent, return 7-player's spending \n",
    " - if the player spends less than the opponent, return 1-player's spending"
   ]
  },
  {
   "cell_type": "code",
   "execution_count": 32,
   "metadata": {},
   "outputs": [],
   "source": [
    "def payoff(player,opponent):\n",
    "    if player==opponent :\n",
    "        return 4-player\n",
    "    if player>opponent :\n",
    "        return 7-player\n",
    "    if player<opponent :\n",
    "        return 1-player"
   ]
  },
  {
   "cell_type": "markdown",
   "metadata": {},
   "source": [
    "Once you created the function you can fill the payoffs matrix with values."
   ]
  },
  {
   "cell_type": "code",
   "execution_count": 33,
   "metadata": {},
   "outputs": [],
   "source": [
    "for i in range(3):\n",
    "    for j in range(3):\n",
    "        payoff_matrix[0,i,j]=payoff(i+2,j+2)\n",
    "        payoff_matrix[1,i,j]=payoff(j+2,i+2)"
   ]
  },
  {
   "cell_type": "markdown",
   "metadata": {},
   "source": [
    "Now check if you have correctly filled the matrix."
   ]
  },
  {
   "cell_type": "code",
   "execution_count": 34,
   "metadata": {},
   "outputs": [
    {
     "data": {
      "text/plain": [
       "array([[[ 2., -1., -1.],\n",
       "        [ 4.,  1., -2.],\n",
       "        [ 3.,  3.,  0.]],\n",
       "\n",
       "       [[ 2.,  4.,  3.],\n",
       "        [-1.,  1.,  3.],\n",
       "        [-1., -2.,  0.]]])"
      ]
     },
     "execution_count": 34,
     "metadata": {},
     "output_type": "execute_result"
    }
   ],
   "source": [
    "payoff_matrix"
   ]
  },
  {
   "cell_type": "markdown",
   "metadata": {},
   "source": [
    "Now given the payoff matrix we can compute Best Responses. Best Response for some choice of your opponent is the choice that gives no less than any other choice e.g. choosing medium is the best response of player 1 to player 2 choosing low. Let's use `.zeros()` and create the matrix of the same size as the payoff matrix filled with zeros. If the strategy is the best response, we will change the value to 1 (so for example, for player 1 playing low with response to low is not the best response, since playing medium gives higher payoff, but if player 1 plays medium with response to low, he doesn't have any other response that gives qual or higher payoff, so for player 1 paying medium is the best response to low). Let's create a loop that goes through every value in the best response matrix and checks whether it is the best response."
   ]
  },
  {
   "cell_type": "code",
   "execution_count": 36,
   "metadata": {},
   "outputs": [],
   "source": [
    "best_response = np.zeros((2,3,3))"
   ]
  },
  {
   "cell_type": "code",
   "execution_count": 38,
   "metadata": {},
   "outputs": [],
   "source": [
    "for i in range(3):\n",
    "    for j in range(3):\n",
    "        if payoff_matrix[1,i,j]>=payoff_matrix[1,i,0] and payoff_matrix[1,i,j]>=payoff_matrix[1,i,1] and payoff_matrix[1,i,j]>=payoff_matrix[1,i,2] :\n",
    "            best_response[1,i,j]=1\n",
    "        if payoff_matrix[0,j,i]>=payoff_matrix[0,0,i] and payoff_matrix[0,j,i]>=payoff_matrix[0,1,i] and payoff_matrix[0,j,i]>=payoff_matrix[0,2,i] :\n",
    "            best_response[0,j,i]=1"
   ]
  },
  {
   "cell_type": "code",
   "execution_count": 39,
   "metadata": {},
   "outputs": [
    {
     "data": {
      "text/plain": [
       "array([[[0., 0., 0.],\n",
       "        [1., 0., 0.],\n",
       "        [0., 1., 1.]],\n",
       "\n",
       "       [[0., 1., 0.],\n",
       "        [0., 0., 1.],\n",
       "        [0., 0., 1.]]])"
      ]
     },
     "execution_count": 39,
     "metadata": {},
     "output_type": "execute_result"
    }
   ],
   "source": [
    "best_response"
   ]
  },
  {
   "cell_type": "markdown",
   "metadata": {},
   "source": [
    "If the strategy is the best response for both player 1 and player 2, no one has any incentives to change their choice and we are in the Nash Equilibrium. We can create an empty array called `nash_equilibria` and run a loop that checks if the given strategy is the best response for both players 1 and 2."
   ]
  },
  {
   "cell_type": "code",
   "execution_count": 40,
   "metadata": {},
   "outputs": [],
   "source": [
    "nash_equilibria =[]"
   ]
  },
  {
   "cell_type": "code",
   "execution_count": 41,
   "metadata": {},
   "outputs": [],
   "source": [
    "for i in range(3):\n",
    "    for j in range(3):\n",
    "        if best_response[0,i,j]==1 and best_response[1,i,j]==1 :\n",
    "            nash_equilibria.append([i+2,j+2])"
   ]
  },
  {
   "cell_type": "markdown",
   "metadata": {},
   "source": [
    "Now, we can display our Nash Equilibria."
   ]
  },
  {
   "cell_type": "code",
   "execution_count": 42,
   "metadata": {},
   "outputs": [
    {
     "data": {
      "text/plain": [
       "[[4, 4]]"
      ]
     },
     "execution_count": 42,
     "metadata": {},
     "output_type": "execute_result"
    }
   ],
   "source": [
    "nash_equilibria"
   ]
  },
  {
   "cell_type": "code",
   "execution_count": null,
   "metadata": {},
   "outputs": [],
   "source": []
  }
 ],
 "metadata": {
  "kernelspec": {
   "display_name": "Python 3 (ipykernel)",
   "language": "python",
   "name": "python3"
  },
  "language_info": {
   "codemirror_mode": {
    "name": "ipython",
    "version": 3
   },
   "file_extension": ".py",
   "mimetype": "text/x-python",
   "name": "python",
   "nbconvert_exporter": "python",
   "pygments_lexer": "ipython3",
   "version": "3.9.7"
  }
 },
 "nbformat": 4,
 "nbformat_minor": 4
}
